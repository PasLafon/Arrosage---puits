{
 "cells": [
  {
   "cell_type": "markdown",
   "metadata": {},
   "source": [
    "# Arrosage  ..."
   ]
  },
  {
   "cell_type": "markdown",
   "metadata": {},
   "source": [
    "M. Dupont a creusé un puits dans son jardin pour arroser son potager. Il utilise une pompe pour élever l'eau du puits vers son potager, pompe qui communique au fluide une puissance $\\Pi$. Les dimensions de l'installation sont données sur la figure ci-dessous. Le tuyau d'arrosage est de rayon $R$ et de longueur totale $L$ (de 1 à 5). On suppose qu'il y a des pertes de charges $\\Delta J$ sur toute la longueur du tuyau et qu'elles peuvent être modélisées par l'équation de Poiseuille :\n",
    "$$\\Delta J=\\frac{8\\mu L}{\\pi R^4}Q$$\n",
    "où $Q$ est le débit volumique de l'eau dans le tuyau, l est la longueur du tuyau considérée et $\\mu$ la viscosité de l'eau. On suppose que l'écoulement est permanent et que l'eau est un fluide incompressible.\n",
    "\n",
    "<img src=\"fig-arrosage-puit.png\" width=\"50%\"/>\n",
    "\n",
    "1. Quel débit maximal d'eau peut obtenir M. Dupont dans son potager ?\n",
    "2. M Dupont ouvre grand le robinet de sa pompe pour arroser son jardin mais, alors que tout est en ordre, il n'y a pas d'eau en sortie de tuyau. Expliquez ce qui se passe en le justifiant par des calculs.\n",
    "3. En discutant avec ses voisins, il se retrouve avec plusieurs solutions :\n",
    "    * lui veut acheter une pompe plus puissante (puissance $\\Pi_1$) et ne pas modifier son installation.\n",
    "    * son voisin, ingénieur UTC, lui propose d'acheter un tuyau avec un rayon $R_1 = $1 cm.\n",
    "    * son ami, ingénieur UTT, lui propose de ne rien acheter mais de déplacer sa pompe pour l'immerger à la profondeur $H = h_1 + h_2$\n",
    "En justifiant vos réponses par des calculs choisissez la meilleure des solutions.\n"
   ]
  },
  {
   "cell_type": "code",
   "execution_count": 1,
   "metadata": {},
   "outputs": [],
   "source": [
    "import numpy as np\n",
    "import matplotlib.pyplot as plt\n",
    "\n",
    "# Données :\n",
    "Ppompe = 160  # Puissance de la pompe en W.\n",
    "L = 30        # Longueur du tuyau en m.\n",
    "h1 = 2        # Profondeur d'aspiration en m.\n",
    "h2 = 8        # Profondeur surface libre de l'eau en m.\n",
    "R = 0.5*1e-2  # Rayon tuyau en m.\n",
    "\n",
    "rho = 1000\n",
    "g = 9.81\n",
    "mu = 1e-3\n",
    "Patm = 1e5 # Pression atmo en Pa."
   ]
  },
  {
   "cell_type": "markdown",
   "metadata": {},
   "source": [
    "1) Quel débit maximal d'eau peut obtenir M. Dupont dans son potager ?"
   ]
  },
  {
   "cell_type": "markdown",
   "metadata": {},
   "source": [
    "Si on applique Bernouilli généralisé entre un point 2 à la surface libre de l'eau (mais pas dans le tuyau !!) et un point à la sortie du tuyau en 5.\n",
    "\n",
    "$$\\left(P_5 + \\rho g z_5 + \\frac{1}{2}\\rho v_5^2\\right) - \\left(P_2 + \\rho g z_2 + \\frac{1}{2}\\rho v_2^2\\right) = \\frac{\\Pi}{Q} - \\Delta J_\\text{sur $L$}$$"
   ]
  },
  {
   "cell_type": "markdown",
   "metadata": {},
   "source": [
    "Avec $P_5=P_2=P_{atm}$, $z_5=0$ et $z_2=-h_2$, $v_2\\simeq 0$ et $v_5=\\dfrac{Q}{\\pi R^2}$"
   ]
  },
  {
   "cell_type": "markdown",
   "metadata": {},
   "source": [
    "On a :\n",
    "$$ \\frac{\\rho Q^2}{2(\\pi R^2)^2} + \\rho g h_2 = \\frac{\\Pi}{Q} - \\frac{8\\mu L}{\\pi R^4}Q$$"
   ]
  },
  {
   "cell_type": "markdown",
   "metadata": {},
   "source": [
    "Donc le débit $Q$ est solution de cette équation polynomiale de degré 3."
   ]
  },
  {
   "cell_type": "code",
   "execution_count": 17,
   "metadata": {},
   "outputs": [
    {
     "data": {
      "image/png": "[encoded data removed]",
      "text/plain": [
       "<Figure size 432x288 with 1 Axes>"
      ]
     },
     "metadata": {
      "needs_background": "light"
     },
     "output_type": "display_data"
    }
   ],
   "source": [
    "a = rho/(2*(np.pi*R**2)**2)\n",
    "b = rho*g*h2\n",
    "c = (8*mu)/(np.pi*R**4)\n",
    "\n",
    "# On trace la fonction pour Q entre 0.2 et 1 l/s -> on passe en unité SI: m3/s\n",
    "# Ces bornes sont ajustées par quelques essais sucessifs ..\n",
    "Q = np.linspace(0.2,1,100)/1e3\n",
    "\n",
    "def fQ(Q):\n",
    "    return a*Q**2 + b - Ppompe/Q + c*Q*L\n",
    "\n",
    "plt.plot(Q*1e3,fQ(Q),'r-')\n",
    "plt.xlabel('Débit en l/s')\n",
    "plt.grid()"
   ]
  },
  {
   "cell_type": "markdown",
   "metadata": {},
   "source": [
    "Graphiquement on voit que le débit \"théorique\" serait de : $\\simeq$0.75 l/s.\n",
    "On peut aussi résoudre numériquement l'équation avec la méthode de [Newton-Raphson](https://fr.wikipedia.org/wiki/Méthode_de_Newton) par exemple :"
   ]
  },
  {
   "cell_type": "code",
   "execution_count": 9,
   "metadata": {},
   "outputs": [
    {
     "name": "stdout",
     "output_type": "stream",
     "text": [
      "Débit théorique : 0.745 l/s\n"
     ]
    }
   ],
   "source": [
    "from scipy import optimize\n",
    "# Appel de la méthode de newton\n",
    "Q0 = optimize.newton(fQ,x0=0.2/1e3,fprime=None)\n",
    "print('Débit théorique : %.3f l/s'%(Q0*1e3))"
   ]
  },
  {
   "cell_type": "markdown",
   "metadata": {},
   "source": [
    "2/ En pratique pas de débit !!!"
   ]
  },
  {
   "cell_type": "markdown",
   "metadata": {},
   "source": [
    "Pourquoi ?\n",
    "* On a appliqué Bernouilli généralisé entre 2 et 5 qui est une équation traduisant la conservation de l'énergie volumique dans l'écoulement avec les apports et les pertes entre le départ et l'arrivée. Par contre on n'a pas vérifier qu'en tout point de l'écoulement les conditions de celui-ci, i.e en particulier la pression dans le fluide ...\n",
    "\n",
    "* Vérifions la pression en 3 en appliquant Bernouilli généralisé entre 2 à la surface du libre et 3 à l'entrée de la pompe :"
   ]
  },
  {
   "cell_type": "markdown",
   "metadata": {},
   "source": [
    "$$\\left(P_3 + \\rho g z_3 + \\frac{1}{2}\\rho v_3^2\\right) - \\left(P_2 + \\rho g z_2 + \\frac{1}{2}\\rho v_2^2\\right) =  - \\Delta J_\\text{sur $h_1 + h_2$ }$$"
   ]
  },
  {
   "cell_type": "markdown",
   "metadata": {},
   "source": [
    "Avec $P_2=P_{atm}$, $z_3=0$ et $z_2=-h_2$, $v_2\\simeq 0$ et $v_3=\\dfrac{Q}{\\pi R^2}$"
   ]
  },
  {
   "cell_type": "markdown",
   "metadata": {},
   "source": [
    "On a :\n",
    "\n",
    "$$ P_3 + \\frac{\\rho Q^2}{2(\\pi R^2)^2} -P_{atm} + \\rho g h_2 = - \\frac{8\\mu (h_1 + h_2)}{\\pi R^4}Q\\label{P3}$$"
   ]
  },
  {
   "cell_type": "code",
   "execution_count": 18,
   "metadata": {},
   "outputs": [
    {
     "name": "stdout",
     "output_type": "stream",
     "text": [
      "Pression pour le débit théorique -53893.95 Pa\n"
     ]
    },
    {
     "data": {
      "image/png": "[encoded data removed]",
      "text/plain": [
       "<Figure size 432x288 with 1 Axes>"
      ]
     },
     "metadata": {
      "needs_background": "light"
     },
     "output_type": "display_data"
    }
   ],
   "source": [
    "# Fonction P3(Q)\n",
    "def P3(Q):\n",
    "    return Patm - b -c*(h1+h2)*Q - a*Q**2\n",
    "# Tracé\n",
    "plt.plot(Q*1e3,P3(Q),'r-')\n",
    "plt.grid()\n",
    "plt.xlabel('Débit en l/s')\n",
    "\n",
    "print('Pression pour le débit théorique %.2f Pa'%P3(Q0))"
   ]
  },
  {
   "cell_type": "markdown",
   "metadata": {},
   "source": [
    "#### On voit que sur la plage de débit la pression $P_3$ est toujours négative !!! $\\to$ écoulement impossible !!"
   ]
  },
  {
   "cell_type": "markdown",
   "metadata": {},
   "source": [
    "-----\n",
    "* Solution 1, tuyau de plus grand diamètre : $R_1=1$cm\n",
    "\n",
    "On recalcule le débit théorique et la pression en 3 :"
   ]
  },
  {
   "cell_type": "code",
   "execution_count": 11,
   "metadata": {},
   "outputs": [
    {
     "name": "stdout",
     "output_type": "stream",
     "text": [
      "Débit théorique : 1.558 l/s\n",
      "Pression en 3 :16806.628 Pa\n"
     ]
    }
   ],
   "source": [
    "R1 = 1*1e-2\n",
    "a = rho/(2*(np.pi*R1**2)**2)\n",
    "c = (8*mu)/(np.pi*R1**4)\n",
    "\n",
    "def fQ(Q):\n",
    "    return a*Q**2 + b - Ppompe/Q + c*Q*L\n",
    "\n",
    "def P3(Q):\n",
    "    return Patm - b -c*(h1+h2)*Q - a*Q**2\n",
    "\n",
    "QR1 = optimize.newton(fQ,x0=0.01*60/1e3,fprime=None)\n",
    "print('Débit théorique : %.3f l/s'%(QR1*1e3))\n",
    "print('Pression en 3 :%.3f Pa'%P3(Q0))"
   ]
  },
  {
   "cell_type": "markdown",
   "metadata": {},
   "source": [
    "### ça marche !!\n",
    "\n",
    "En traçant la courbe $P_3(Q)$ on peut connaître le débit maxi de l'installation (ce qui supposerait d'augmenter la puissance de la pompe !) :"
   ]
  },
  {
   "cell_type": "code",
   "execution_count": 12,
   "metadata": {},
   "outputs": [
    {
     "name": "stdout",
     "output_type": "stream",
     "text": [
      "Débit maxi : 1.825 l/s\n"
     ]
    },
    {
     "data": {
      "image/png": "[encoded data removed]",
      "text/plain": [
       "<Figure size 432x288 with 1 Axes>"
      ]
     },
     "metadata": {
      "needs_background": "light"
     },
     "output_type": "display_data"
    }
   ],
   "source": [
    "# Tracé\n",
    "Q = np.linspace(1,3,100)/1e3\n",
    "plt.plot(Q*1e3,P3(Q),'r-')\n",
    "plt.grid()\n",
    "plt.xlabel('Débit en l/s')\n",
    "Qmax = optimize.newton(P3,x0=1/1e3,fprime=None)\n",
    "print('Débit maxi : %.3f l/s'%(Qmax*1e3))"
   ]
  },
  {
   "cell_type": "code",
   "execution_count": 13,
   "metadata": {},
   "outputs": [
    {
     "name": "stdout",
     "output_type": "stream",
     "text": [
      "Puissance de la pompe pour Qmax : 175 W\n"
     ]
    }
   ],
   "source": [
    "Ppompe_max = a*Qmax**3 + b*Qmax + c*Qmax**2\n",
    "print('Puissance de la pompe pour Qmax : %.0f W'%(Ppompe_max))"
   ]
  },
  {
   "cell_type": "markdown",
   "metadata": {},
   "source": [
    "----\n",
    "* Solution 2 : On place la pompe en 1, (donc nécessité d'une pompe immersible, donc étanche)"
   ]
  },
  {
   "cell_type": "markdown",
   "metadata": {},
   "source": [
    "Dans ce cas bernouilli généralisé entre 2 et 3 s'écrit :\n",
    "\n",
    "$$ P_3 + \\frac{\\rho Q^2}{2(\\pi R^2)^2} -P_{atm} + \\rho g h_2 = \\frac{\\Pi}{Q}  - \\frac{8\\mu (h_1 + h_2)}{\\pi R^4}Q$$"
   ]
  },
  {
   "cell_type": "code",
   "execution_count": 14,
   "metadata": {},
   "outputs": [
    {
     "name": "stdout",
     "output_type": "stream",
     "text": [
      "Débit théorique : 0.745 l/s\n",
      "Pression en 3 :160744.019 Pa\n",
      "Soit : 1.607xPatm\n"
     ]
    }
   ],
   "source": [
    "R = 0.5*1e-2\n",
    "a = rho/(2*(np.pi*R**2)**2)\n",
    "c = (8*mu)/(np.pi*R**4)\n",
    "\n",
    "def P3(Q):\n",
    "    return Patm + Ppompe/Q - b -c*(h1+h2)*Q - a*Q**2\n",
    "\n",
    "print('Débit théorique : %.3f l/s'%(Q0*1e3))\n",
    "print('Pression en 3 :%.3f Pa'%P3(Q0))\n",
    "print('Soit : %.3fxPatm'%(P3(Q0)/Patm))"
   ]
  },
  {
   "cell_type": "markdown",
   "metadata": {},
   "source": [
    "## ça marche !!!"
   ]
  },
  {
   "cell_type": "markdown",
   "metadata": {},
   "source": [
    "Reste à comparer le coût de 30m d'un tuyau 2x plus gros et la différence entre celui d'une pompe de surface et immergée ..."
   ]
  }
 ],
 "metadata": {
  "kernelspec": {
   "display_name": "Python 3",
   "language": "python",
   "name": "python3"
  },
  "language_info": {
   "codemirror_mode": {
    "name": "ipython",
    "version": 3
   },
   "file_extension": ".py",
   "mimetype": "text/x-python",
   "name": "python",
   "nbconvert_exporter": "python",
   "pygments_lexer": "ipython3",
   "version": "3.7.7"
  }
 },
 "nbformat": 4,
 "nbformat_minor": 4
}
